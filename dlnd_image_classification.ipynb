{
 "cells": [
  {
   "cell_type": "markdown",
   "metadata": {
    "collapsed": true
   },
   "source": [
    "# Image Classification\n",
    "In this project, you'll classify images from the [CIFAR-10 dataset](https://www.cs.toronto.edu/~kriz/cifar.html).  The dataset consists of airplanes, dogs, cats, and other objects. You'll preprocess the images, then train a convolutional neural network on all the samples. The images need to be normalized and the labels need to be one-hot encoded.  You'll get to apply what you learned and build a convolutional, max pooling, dropout, and fully connected layers.  At the end, you'll get to see your neural network's predictions on the sample images.\n",
    "## Get the Data\n",
    "Run the following cell to download the [CIFAR-10 dataset for python](https://www.cs.toronto.edu/~kriz/cifar-10-python.tar.gz)."
   ]
  },
  {
   "cell_type": "code",
   "execution_count": 1,
   "metadata": {
    "collapsed": false
   },
   "outputs": [
    {
     "name": "stdout",
     "output_type": "stream",
     "text": [
      "All files found!\n"
     ]
    }
   ],
   "source": [
    "\"\"\"\n",
    "DON'T MODIFY ANYTHING IN THIS CELL THAT IS BELOW THIS LINE\n",
    "\"\"\"\n",
    "from urllib.request import urlretrieve\n",
    "from os.path import isfile, isdir\n",
    "from tqdm import tqdm\n",
    "import problem_unittests as tests\n",
    "import tarfile\n",
    "\n",
    "cifar10_dataset_folder_path = 'cifar-10-batches-py'\n",
    "\n",
    "class DLProgress(tqdm):\n",
    "    last_block = 0\n",
    "\n",
    "    def hook(self, block_num=1, block_size=1, total_size=None):\n",
    "        self.total = total_size\n",
    "        self.update((block_num - self.last_block) * block_size)\n",
    "        self.last_block = block_num\n",
    "\n",
    "if not isfile('cifar-10-python.tar.gz'):\n",
    "    with DLProgress(unit='B', unit_scale=True, miniters=1, desc='CIFAR-10 Dataset') as pbar:\n",
    "        urlretrieve(\n",
    "            'https://www.cs.toronto.edu/~kriz/cifar-10-python.tar.gz',\n",
    "            'cifar-10-python.tar.gz',\n",
    "            pbar.hook)\n",
    "\n",
    "if not isdir(cifar10_dataset_folder_path):\n",
    "    with tarfile.open('cifar-10-python.tar.gz') as tar:\n",
    "        tar.extractall()\n",
    "        tar.close()\n",
    "\n",
    "\n",
    "tests.test_folder_path(cifar10_dataset_folder_path)"
   ]
  },
  {
   "cell_type": "markdown",
   "metadata": {},
   "source": [
    "## Explore the Data\n",
    "The dataset is broken into batches to prevent your machine from running out of memory.  The CIFAR-10 dataset consists of 5 batches, named `data_batch_1`, `data_batch_2`, etc.. Each batch contains the labels and images that are one of the following:\n",
    "* airplane\n",
    "* automobile\n",
    "* bird\n",
    "* cat\n",
    "* deer\n",
    "* dog\n",
    "* frog\n",
    "* horse\n",
    "* ship\n",
    "* truck\n",
    "\n",
    "Understanding a dataset is part of making predictions on the data.  Play around with the code cell below by changing the `batch_id` and `sample_id`. The `batch_id` is the id for a batch (1-5). The `sample_id` is the id for a image and label pair in the batch.\n",
    "\n",
    "Ask yourself \"What are all possible labels?\", \"What is the range of values for the image data?\", \"Are the labels in order or random?\".  Answers to questions like these will help you preprocess the data and end up with better predictions."
   ]
  },
  {
   "cell_type": "code",
   "execution_count": 4,
   "metadata": {
    "collapsed": false
   },
   "outputs": [
    {
     "name": "stdout",
     "output_type": "stream",
     "text": [
      "\n",
      "Stats of batch 3:\n",
      "Samples: 10000\n",
      "Label Counts: {0: 994, 1: 1042, 2: 965, 3: 997, 4: 990, 5: 1029, 6: 978, 7: 1015, 8: 961, 9: 1029}\n",
      "First 20 Labels: [8, 5, 0, 6, 9, 2, 8, 3, 6, 2, 7, 4, 6, 9, 0, 0, 7, 3, 7, 2]\n",
      "\n",
      "Example of Image 9:\n",
      "Image - Min Value: 11 Max Value: 254\n",
      "Image - Shape: (32, 32, 3)\n",
      "Label - Label Id: 2 Name: bird\n"
     ]
    },
    {
     "data": {
      "image/png": "[encoded data removed]",
      "text/plain": [
       "<matplotlib.figure.Figure at 0x232f7ecce48>"
      ]
     },
     "metadata": {
      "image/png": {
       "height": 250,
       "width": 253
      }
     },
     "output_type": "display_data"
    }
   ],
   "source": [
    "%matplotlib inline\n",
    "%config InlineBackend.figure_format = 'retina'\n",
    "\n",
    "import helper\n",
    "import numpy as np\n",
    "\n",
    "# Explore the dataset\n",
    "batch_id = 3\n",
    "sample_id = 9\n",
    "helper.display_stats(cifar10_dataset_folder_path, batch_id, sample_id)"
   ]
  },
  {
   "cell_type": "markdown",
   "metadata": {},
   "source": [
    "## Implement Preprocess Functions\n",
    "### Normalize\n",
    "In the cell below, implement the `normalize` function to take in image data, `x`, and return it as a normalized Numpy array. The values should be in the range of 0 to 1, inclusive.  The return object should be the same shape as `x`."
   ]
  },
  {
   "cell_type": "code",
   "execution_count": 5,
   "metadata": {
    "collapsed": false
   },
   "outputs": [
    {
     "name": "stdout",
     "output_type": "stream",
     "text": [
      "Tests Passed\n"
     ]
    }
   ],
   "source": [
    "def normalize(x):\n",
    "    \"\"\"\n",
    "    Normalize a list of sample image data in the range of 0 to 1\n",
    "    : x: List of image data.  The image shape is (32, 32, 3)\n",
    "    : return: Numpy array of normalize data\n",
    "    \"\"\"\n",
    "    # TODO: Implement Function\n",
    "    # xi - min(x) / max(x) - min(x)\n",
    "    x = (x - np.min(x)) / (np.max(x) - np.min(x))\n",
    "    return x\n",
    "\n",
    "\n",
    "\"\"\"\n",
    "DON'T MODIFY ANYTHING IN THIS CELL THAT IS BELOW THIS LINE\n",
    "\"\"\"\n",
    "tests.test_normalize(normalize)"
   ]
  },
  {
   "cell_type": "markdown",
   "metadata": {},
   "source": [
    "### One-hot encode\n",
    "Just like the previous code cell, you'll be implementing a function for preprocessing.  This time, you'll implement the `one_hot_encode` function. The input, `x`, are a list of labels.  Implement the function to return the list of labels as One-Hot encoded Numpy array.  The possible values for labels are 0 to 9. The one-hot encoding function should return the same encoding for each value between each call to `one_hot_encode`.  Make sure to save the map of encodings outside the function.\n",
    "\n",
    "Hint: Don't reinvent the wheel."
   ]
  },
  {
   "cell_type": "code",
   "execution_count": 6,
   "metadata": {
    "collapsed": false
   },
   "outputs": [
    {
     "name": "stdout",
     "output_type": "stream",
     "text": [
      "Tests Passed\n"
     ]
    }
   ],
   "source": [
    "from sklearn.preprocessing import LabelBinarizer\n",
    "enc = LabelBinarizer()\n",
    "possible_values = [x for x in range(10)]\n",
    "enc.fit(possible_values)\n",
    "\n",
    "def one_hot_encode(x):\n",
    "    \"\"\"\n",
    "    One hot encode a list of sample labels. Return a one-hot encoded vector for each label.\n",
    "    : x: List of sample Labels\n",
    "    : return: Numpy array of one-hot encoded labels\n",
    "    \"\"\"\n",
    "    # TODO: Implement Function\n",
    "    x = enc.transform(x)\n",
    "    return x\n",
    "\n",
    "\n",
    "\"\"\"\n",
    "DON'T MODIFY ANYTHING IN THIS CELL THAT IS BELOW THIS LINE\n",
    "\"\"\"\n",
    "tests.test_one_hot_encode(one_hot_encode)"
   ]
  },
  {
   "cell_type": "markdown",
   "metadata": {},
   "source": [
    "### Randomize Data\n",
    "As you saw from exploring the data above, the order of the samples are randomized.  It doesn't hurt to randomize it again, but you don't need to for this dataset."
   ]
  },
  {
   "cell_type": "markdown",
   "metadata": {},
   "source": [
    "## Preprocess all the data and save it\n",
    "Running the code cell below will preprocess all the CIFAR-10 data and save it to file. The code below also uses 10% of the training data for validation."
   ]
  },
  {
   "cell_type": "code",
   "execution_count": 7,
   "metadata": {
    "collapsed": false
   },
   "outputs": [],
   "source": [
    "\"\"\"\n",
    "DON'T MODIFY ANYTHING IN THIS CELL\n",
    "\"\"\"\n",
    "# Preprocess Training, Validation, and Testing Data\n",
    "helper.preprocess_and_save_data(cifar10_dataset_folder_path, normalize, one_hot_encode)"
   ]
  },
  {
   "cell_type": "markdown",
   "metadata": {},
   "source": [
    "# Check Point\n",
    "This is your first checkpoint.  If you ever decide to come back to this notebook or have to restart the notebook, you can start from here.  The preprocessed data has been saved to disk."
   ]
  },
  {
   "cell_type": "code",
   "execution_count": 8,
   "metadata": {
    "collapsed": true
   },
   "outputs": [],
   "source": [
    "\"\"\"\n",
    "DON'T MODIFY ANYTHING IN THIS CELL\n",
    "\"\"\"\n",
    "import pickle\n",
    "import problem_unittests as tests\n",
    "import helper\n",
    "\n",
    "# Load the Preprocessed Validation data\n",
    "valid_features, valid_labels = pickle.load(open('preprocess_validation.p', mode='rb'))"
   ]
  },
  {
   "cell_type": "markdown",
   "metadata": {},
   "source": [
    "## Build the network\n",
    "For the neural network, you'll build each layer into a function.  Most of the code you've seen has been outside of functions. To test your code more thoroughly, we require that you put each layer in a function.  This allows us to give you better feedback and test for simple mistakes using our unittests before you submit your project.\n",
    "\n",
    "If you're finding it hard to dedicate enough time for this course a week, we've provided a small shortcut to this part of the project. In the next couple of problems, you'll have the option to use [TensorFlow Layers](https://www.tensorflow.org/api_docs/python/tf/layers) or [TensorFlow Layers (contrib)](https://www.tensorflow.org/api_guides/python/contrib.layers) to build each layer, except \"Convolutional & Max Pooling\" layer.  TF Layers is similar to Keras's and TFLearn's abstraction to layers, so it's easy to pickup.\n",
    "\n",
    "If you would like to get the most of this course, try to solve all the problems without TF Layers.  Let's begin!\n",
    "### Input\n",
    "The neural network needs to read the image data, one-hot encoded labels, and dropout keep probability. Implement the following functions\n",
    "* Implement `neural_net_image_input`\n",
    " * Return a [TF Placeholder](https://www.tensorflow.org/api_docs/python/tf/placeholder)\n",
    " * Set the shape using `image_shape` with batch size set to `None`.\n",
    " * Name the TensorFlow placeholder \"x\" using the TensorFlow `name` parameter in the [TF Placeholder](https://www.tensorflow.org/api_docs/python/tf/placeholder).\n",
    "* Implement `neural_net_label_input`\n",
    " * Return a [TF Placeholder](https://www.tensorflow.org/api_docs/python/tf/placeholder)\n",
    " * Set the shape using `n_classes` with batch size set to `None`.\n",
    " * Name the TensorFlow placeholder \"y\" using the TensorFlow `name` parameter in the [TF Placeholder](https://www.tensorflow.org/api_docs/python/tf/placeholder).\n",
    "* Implement `neural_net_keep_prob_input`\n",
    " * Return a [TF Placeholder](https://www.tensorflow.org/api_docs/python/tf/placeholder) for dropout keep probability.\n",
    " * Name the TensorFlow placeholder \"keep_prob\" using the TensorFlow `name` parameter in the [TF Placeholder](https://www.tensorflow.org/api_docs/python/tf/placeholder).\n",
    "\n",
    "These names will be used at the end of the project to load your saved model.\n",
    "\n",
    "Note: `None` for shapes in TensorFlow allow for a dynamic size."
   ]
  },
  {
   "cell_type": "code",
   "execution_count": 81,
   "metadata": {
    "collapsed": false
   },
   "outputs": [
    {
     "name": "stdout",
     "output_type": "stream",
     "text": [
      "Image Input Tests Passed.\n",
      "Label Input Tests Passed.\n",
      "Keep Prob Tests Passed.\n"
     ]
    }
   ],
   "source": [
    "import tensorflow as tf\n",
    "\n",
    "def neural_net_image_input(image_shape):\n",
    "    \"\"\"\n",
    "    Return a Tensor for a bach of image input\n",
    "    : image_shape: Shape of the images\n",
    "    : return: Tensor for image input.\n",
    "    \"\"\"\n",
    "    # TODO: Implement Function\n",
    "    # TF doesn't accept a tuple or list, so need generate the full shape input.\n",
    "    shape = [None] + list(image_shape)\n",
    "    return tf.placeholder(tf.float32, shape=(shape),name=\"x\")\n",
    "\n",
    "\n",
    "def neural_net_label_input(n_classes):\n",
    "    \"\"\"\n",
    "    Return a Tensor for a batch of label input\n",
    "    : n_classes: Number of classes\n",
    "    : return: Tensor for label input.\n",
    "    \"\"\"\n",
    "    # TODO: Implement Function\n",
    "    shape = [None] + [n_classes]\n",
    "    return tf.placeholder(tf.float32, shape=(shape),name=\"y\")\n",
    "\n",
    "\n",
    "def neural_net_keep_prob_input():\n",
    "    \"\"\"\n",
    "    Return a Tensor for keep probability\n",
    "    : return: Tensor for keep probability.\n",
    "    \"\"\"\n",
    "    # TODO: Implement Function\n",
    "    return tf.placeholder(tf.float32, name=\"keep_prob\")\n",
    "\n",
    "\n",
    "\"\"\"\n",
    "DON'T MODIFY ANYTHING IN THIS CELL THAT IS BELOW THIS LINE\n",
    "\"\"\"\n",
    "tf.reset_default_graph()\n",
    "tests.test_nn_image_inputs(neural_net_image_input)\n",
    "tests.test_nn_label_inputs(neural_net_label_input)\n",
    "tests.test_nn_keep_prob_inputs(neural_net_keep_prob_input)"
   ]
  },
  {
   "cell_type": "markdown",
   "metadata": {},
   "source": [
    "### Convolution and Max Pooling Layer\n",
    "Convolution layers have a lot of success with images. For this code cell, you should implement the function `conv2d_maxpool` to apply convolution then max pooling:\n",
    "* Create the weight and bias using `conv_ksize`, `conv_num_outputs` and the shape of `x_tensor`.\n",
    "* Apply a convolution to `x_tensor` using weight and `conv_strides`.\n",
    " * We recommend you use same padding, but you're welcome to use any padding.\n",
    "* Add bias\n",
    "* Add a nonlinear activation to the convolution.\n",
    "* Apply Max Pooling using `pool_ksize` and `pool_strides`.\n",
    " * We recommend you use same padding, but you're welcome to use any padding.\n",
    "\n",
    "Note: You **can't** use [TensorFlow Layers](https://www.tensorflow.org/api_docs/python/tf/layers) or [TensorFlow Layers (contrib)](https://www.tensorflow.org/api_guides/python/contrib.layers) for this layer.  You're free to use any TensorFlow package for all the other layers."
   ]
  },
  {
   "cell_type": "code",
   "execution_count": 142,
   "metadata": {
    "collapsed": false
   },
   "outputs": [
    {
     "name": "stdout",
     "output_type": "stream",
     "text": [
      "Tensor(\"MaxPool_4:0\", shape=(?, 4, 4, 10), dtype=float32)\n",
      "Tests Passed\n"
     ]
    }
   ],
   "source": [
    "def conv2d_maxpool(x_tensor, conv_num_outputs, conv_ksize, conv_strides, pool_ksize, pool_strides):\n",
    "    \"\"\"\n",
    "    Apply convolution then max pooling to x_tensor\n",
    "    :param x_tensor: TensorFlow Tensor\n",
    "    :param conv_num_outputs: Number of outputs for the convolutional layer\n",
    "    :param conv_strides: Stride 2-D Tuple for convolution\n",
    "    :param pool_ksize: kernal size 2-D Tuple for pool\n",
    "    :param pool_strides: Stride 2-D Tuple for pool\n",
    "    : return: A tensor that represents convolution and max pooling of x_tensor\n",
    "    \"\"\"\n",
    "    # TODO: Implement Function\n",
    "    # tf.random_normal(shape, mean=0.0, stddev=1.0, dtype=tf.float32, seed=None, name=None)\n",
    "    # [conv_ksize, colors, conv_num_outputs]\n",
    "    colors = int(x_tensor.shape[-1])\n",
    "    weights_shape = list(conv_ksize) + [colors] + [conv_num_outputs]\n",
    "    # Create weights and biases\n",
    "    w = tf.Variable(tf.random_normal(shape=weights_shape,mean=0.0, stddev=0.1))\n",
    "    b = tf.Variable(tf.zeros(shape=[conv_num_outputs]))\n",
    "    \n",
    "    # conv2d\n",
    "    # tf.nn.conv2d(input, filter, strides, padding, use_cudnn_on_gpu=None, data_format=None, name=None) \n",
    "    # [1, conv_strides, 1]\n",
    "    conv_strides = [1] + list(conv_strides) + [1]\n",
    "    net = tf.nn.conv2d(x_tensor, w, conv_strides,padding=\"SAME\")\n",
    "    \n",
    "    # add bias\n",
    "    net = tf.nn.bias_add(net, b)\n",
    "    \n",
    "    # non linear\n",
    "    net = tf.nn.relu(net)\n",
    "    \n",
    "    # max pool\n",
    "    # tf.nn.max_pool(value, ksize, strides, padding, data_format='NHWC', name=None)\n",
    "    pool_ksize = [1] + list(pool_ksize) + [1]\n",
    "    pool_strides = [1] + list(pool_strides) + [1]\n",
    "    net = tf.nn.max_pool(net, pool_ksize,pool_strides,padding=\"SAME\")\n",
    "    print(net)\n",
    "    return net \n",
    "\n",
    "\n",
    "\"\"\"\n",
    "DON'T MODIFY ANYTHING IN THIS CELL THAT IS BELOW THIS LINE\n",
    "\"\"\"\n",
    "tests.test_con_pool(conv2d_maxpool)"
   ]
  },
  {
   "cell_type": "markdown",
   "metadata": {},
   "source": [
    "### Flatten Layer\n",
    "Implement the `flatten` function to change the dimension of `x_tensor` from a 4-D tensor to a 2-D tensor.  The output should be the shape (*Batch Size*, *Flattened Image Size*). You can use [TensorFlow Layers](https://www.tensorflow.org/api_docs/python/tf/layers) or [TensorFlow Layers (contrib)](https://www.tensorflow.org/api_guides/python/contrib.layers) for this layer."
   ]
  },
  {
   "cell_type": "code",
   "execution_count": 83,
   "metadata": {
    "collapsed": false
   },
   "outputs": [
    {
     "name": "stdout",
     "output_type": "stream",
     "text": [
      "Tests Passed\n"
     ]
    }
   ],
   "source": [
    "def flatten(x_tensor):\n",
    "    \"\"\"\n",
    "    Flatten x_tensor to (Batch Size, Flattened Image Size)\n",
    "    : x_tensor: A tensor of size (Batch Size, ...), where ... are the image dimensions.\n",
    "    : return: A tensor of size (Batch Size, Flattened Image Size).\n",
    "    \"\"\"\n",
    "    # TODO: Implement Function\n",
    "    # [None, 10,30,6] to [None, 10*30*6]\n",
    "    flatten_dimension = int(x_tensor.shape[1])*int(x_tensor.shape[2])*int(x_tensor.shape[3])\n",
    "    x_tensor = tf.reshape(x_tensor,shape=[-1,flatten_dimension])\n",
    "    return x_tensor\n",
    "\n",
    "\n",
    "\"\"\"\n",
    "DON'T MODIFY ANYTHING IN THIS CELL THAT IS BELOW THIS LINE\n",
    "\"\"\"\n",
    "tests.test_flatten(flatten)"
   ]
  },
  {
   "cell_type": "markdown",
   "metadata": {},
   "source": [
    "### Fully-Connected Layer\n",
    "Implement the `fully_conn` function to apply a fully connected layer to `x_tensor` with the shape (*Batch Size*, *num_outputs*). You can use [TensorFlow Layers](https://www.tensorflow.org/api_docs/python/tf/layers) or [TensorFlow Layers (contrib)](https://www.tensorflow.org/api_guides/python/contrib.layers) for this layer."
   ]
  },
  {
   "cell_type": "code",
   "execution_count": 143,
   "metadata": {
    "collapsed": false
   },
   "outputs": [
    {
     "name": "stdout",
     "output_type": "stream",
     "text": [
      "Tensor(\"Relu_7:0\", shape=(?, 40), dtype=float32)\n",
      "Tests Passed\n"
     ]
    }
   ],
   "source": [
    "def fully_conn(x_tensor, num_outputs):\n",
    "    \"\"\"\n",
    "    Apply a fully connected layer to x_tensor using weight and bias\n",
    "    : x_tensor: A 2-D tensor where the first dimension is batch size.\n",
    "    : num_outputs: The number of output that the new tensor should be.\n",
    "    : return: A 2-D tensor where the second dimension is num_outputs.\n",
    "    \"\"\"\n",
    "    # TODO: Implement Function\n",
    "    # RELU\n",
    "    # shape (?, 128)\n",
    "    wf = tf.Variable(tf.random_normal(shape=[int(x_tensor.shape[1]),num_outputs],mean=0.0, stddev=0.1))\n",
    "    bf = tf.Variable(tf.zeros(shape=[num_outputs]))\n",
    "    net = tf.add(tf.matmul(x_tensor,wf),bf)\n",
    "    net = tf.nn.relu(net)\n",
    "    print(net)\n",
    "    return net\n",
    "\n",
    "\n",
    "\"\"\"\n",
    "DON'T MODIFY ANYTHING IN THIS CELL THAT IS BELOW THIS LINE\n",
    "\"\"\"\n",
    "tests.test_fully_conn(fully_conn)"
   ]
  },
  {
   "cell_type": "markdown",
   "metadata": {},
   "source": [
    "### Output Layer\n",
    "Implement the `output` function to apply a fully connected layer to `x_tensor` with the shape (*Batch Size*, *num_outputs*). You can use [TensorFlow Layers](https://www.tensorflow.org/api_docs/python/tf/layers) or [TensorFlow Layers (contrib)](https://www.tensorflow.org/api_guides/python/contrib.layers) for this layer.\n",
    "\n",
    "Note: Activation, softmax, or cross entropy shouldn't be applied to this."
   ]
  },
  {
   "cell_type": "code",
   "execution_count": 145,
   "metadata": {
    "collapsed": false
   },
   "outputs": [
    {
     "name": "stdout",
     "output_type": "stream",
     "text": [
      "Tensor(\"Add_6:0\", shape=(?, 40), dtype=float32)\n",
      "Tests Passed\n"
     ]
    }
   ],
   "source": [
    "def output(x_tensor, num_outputs):\n",
    "    \"\"\"\n",
    "    Apply a output layer to x_tensor using weight and bias\n",
    "    : x_tensor: A 2-D tensor where the first dimension is batch size.\n",
    "    : num_outputs: The number of output that the new tensor should be.\n",
    "    : return: A 2-D tensor where the second dimension is num_outputs.\n",
    "    \"\"\"\n",
    "    # TODO: Implement Function\n",
    "    wo = tf.Variable(tf.random_normal(shape=[int(x_tensor.shape[1]),num_outputs],mean=0.0, stddev=0.1))\n",
    "    bo = tf.Variable(tf.zeros(shape=[num_outputs]))\n",
    "    net = tf.add(tf.matmul(x_tensor,wo),bo)\n",
    "    print(net)\n",
    "    return net\n",
    "\n",
    "\"\"\"\n",
    "DON'T MODIFY ANYTHING IN THIS CELL THAT IS BELOW THIS LINE\n",
    "\"\"\"\n",
    "tests.test_output(output)"
   ]
  },
  {
   "cell_type": "markdown",
   "metadata": {},
   "source": [
    "### Create Convolutional Model\n",
    "Implement the function `conv_net` to create a convolutional neural network model. The function takes in a batch of images, `x`, and outputs logits.  Use the layers you created above to create this model:\n",
    "\n",
    "* Apply 1, 2, or 3 Convolution and Max Pool layers\n",
    "* Apply a Flatten Layer\n",
    "* Apply 1, 2, or 3 Fully Connected Layers\n",
    "* Apply an Output Layer\n",
    "* Return the output\n",
    "* Apply [TensorFlow's Dropout](https://www.tensorflow.org/api_docs/python/tf/nn/dropout) to one or more layers in the model using `keep_prob`. "
   ]
  },
  {
   "cell_type": "code",
   "execution_count": 154,
   "metadata": {
    "collapsed": false
   },
   "outputs": [
    {
     "name": "stdout",
     "output_type": "stream",
     "text": [
      "Tensor(\"MaxPool:0\", shape=(?, 32, 32, 10), dtype=float32)\n",
      "Tensor(\"MaxPool_1:0\", shape=(?, 32, 32, 20), dtype=float32)\n",
      "Tensor(\"Relu_2:0\", shape=(?, 50), dtype=float32)\n",
      "Tensor(\"Add_1:0\", shape=(?, 10), dtype=float32)\n",
      "Tensor(\"MaxPool_2:0\", shape=(?, 32, 32, 10), dtype=float32)\n",
      "Tensor(\"MaxPool_3:0\", shape=(?, 32, 32, 20), dtype=float32)\n",
      "Tensor(\"Relu_5:0\", shape=(?, 50), dtype=float32)\n",
      "Tensor(\"Add_3:0\", shape=(?, 10), dtype=float32)\n",
      "Neural Network Built!\n"
     ]
    }
   ],
   "source": [
    "def conv_net(x, keep_prob):\n",
    "    \"\"\"\n",
    "    Create a convolutional neural network model\n",
    "    : x: Placeholder tensor that holds image data.\n",
    "    : keep_prob: Placeholder tensor that hold dropout keep probability.\n",
    "    : return: Tensor that represents logits\n",
    "    \"\"\"\n",
    "    # TODO: Apply 1, 2, or 3 Convolution and Max Pool layers\n",
    "    #    Play around with different number of outputs, kernel size and stride\n",
    "    # Function Definition from Above:\n",
    "    #    conv2d_maxpool(x_tensor, conv_num_outputs, conv_ksize, conv_strides, pool_ksize, pool_strides)\n",
    "    net = conv2d_maxpool(x,10,[2,2],[1,1],[2,2],[1,1])\n",
    "    net = conv2d_maxpool(net,20,[2,2],[1,1],[2,2],[1,1])\n",
    "    # TODO: Apply a Flatten Layer\n",
    "    # Function Definition from Above:\n",
    "    #   flatten(x_tensor)\n",
    "    net = flatten(net)\n",
    "\n",
    "    # TODO: Apply 1, 2, or 3 Fully Connected Layers\n",
    "    #    Play around with different number of outputs\n",
    "    # Function Definition from Above:\n",
    "    #   fully_conn(x_tensor, num_outputs)\n",
    "    net = fully_conn(net,50)\n",
    "    net = tf.nn.dropout(net,keep_prob)\n",
    "    # TODO: Apply an Output Layer\n",
    "    #    Set this to the number of classes\n",
    "    # Function Definition from Above:\n",
    "    #   output(x_tensor, num_outputs)\n",
    "    net = output(net,10)\n",
    "    # TODO: return output\n",
    "    return net\n",
    "\n",
    "\n",
    "\"\"\"\n",
    "DON'T MODIFY ANYTHING IN THIS CELL THAT IS BELOW THIS LINE\n",
    "\"\"\"\n",
    "\n",
    "##############################\n",
    "## Build the Neural Network ##\n",
    "##############################\n",
    "\n",
    "# Remove previous weights, bias, inputs, etc..\n",
    "tf.reset_default_graph()\n",
    "\n",
    "# Inputs\n",
    "x = neural_net_image_input((32, 32, 3))\n",
    "y = neural_net_label_input(10)\n",
    "keep_prob = neural_net_keep_prob_input()\n",
    "\n",
    "# Model\n",
    "logits = conv_net(x, keep_prob)\n",
    "\n",
    "# Name logits Tensor, so that is can be loaded from disk after training\n",
    "logits = tf.identity(logits, name='logits')\n",
    "\n",
    "# Loss and Optimizer\n",
    "cost = tf.reduce_mean(tf.nn.softmax_cross_entropy_with_logits(logits=logits, labels=y))\n",
    "optimizer = tf.train.AdamOptimizer().minimize(cost)\n",
    "\n",
    "# Accuracy\n",
    "correct_pred = tf.equal(tf.argmax(logits, 1), tf.argmax(y, 1))\n",
    "accuracy = tf.reduce_mean(tf.cast(correct_pred, tf.float32), name='accuracy')\n",
    "\n",
    "tests.test_conv_net(conv_net)"
   ]
  },
  {
   "cell_type": "markdown",
   "metadata": {},
   "source": [
    "## Train the Neural Network\n",
    "### Single Optimization\n",
    "Implement the function `train_neural_network` to do a single optimization.  The optimization should use `optimizer` to optimize in `session` with a `feed_dict` of the following:\n",
    "* `x` for image input\n",
    "* `y` for labels\n",
    "* `keep_prob` for keep probability for dropout\n",
    "\n",
    "This function will be called for each batch, so `tf.global_variables_initializer()` has already been called.\n",
    "\n",
    "Note: Nothing needs to be returned. This function is only optimizing the neural network."
   ]
  },
  {
   "cell_type": "code",
   "execution_count": 155,
   "metadata": {
    "collapsed": false
   },
   "outputs": [
    {
     "name": "stdout",
     "output_type": "stream",
     "text": [
      "Tests Passed\n"
     ]
    }
   ],
   "source": [
    "def train_neural_network(session, optimizer, keep_probability, feature_batch, label_batch):\n",
    "    \"\"\"\n",
    "    Optimize the session on a batch of images and labels\n",
    "    : session: Current TensorFlow session\n",
    "    : optimizer: TensorFlow optimizer function\n",
    "    : keep_probability: keep probability\n",
    "    : feature_batch: Batch of Numpy image data\n",
    "    : label_batch: Batch of Numpy label data\n",
    "    \"\"\"\n",
    "    # TODO: Implement Function\n",
    "    session.run(optimizer, feed_dict={x: feature_batch, y: label_batch, keep_prob: keep_probability})\n",
    "    pass\n",
    "\n",
    "\n",
    "\"\"\"\n",
    "DON'T MODIFY ANYTHING IN THIS CELL THAT IS BELOW THIS LINE\n",
    "\"\"\"\n",
    "tests.test_train_nn(train_neural_network)"
   ]
  },
  {
   "cell_type": "markdown",
   "metadata": {},
   "source": [
    "### Show Stats\n",
    "Implement the function `print_stats` to print loss and validation accuracy.  Use the global variables `valid_features` and `valid_labels` to calculate validation accuracy.  Use a keep probability of `1.0` to calculate the loss and validation accuracy."
   ]
  },
  {
   "cell_type": "code",
   "execution_count": 156,
   "metadata": {
    "collapsed": false
   },
   "outputs": [],
   "source": [
    "def print_stats(session, feature_batch, label_batch, cost, accuracy):\n",
    "    \"\"\"\n",
    "    Print information about loss and validation accuracy\n",
    "    : session: Current TensorFlow session\n",
    "    : feature_batch: Batch of Numpy image data\n",
    "    : label_batch: Batch of Numpy label data\n",
    "    : cost: TensorFlow cost function\n",
    "    : accuracy: TensorFlow accuracy function\n",
    "    \"\"\"\n",
    "    # TODO: Implement Function\n",
    "    loss = session.run(cost, feed_dict={x: feature_batch, y: label_batch, keep_prob: 1.})\n",
    "    acc = sess.run(accuracy, feed_dict={x: valid_features, y: valid_labels, keep_prob: 1.})\n",
    "\n",
    "    print(\"Loss: {:.4f}, Accuracy: {:.4f}\".format(loss,acc))"
   ]
  },
  {
   "cell_type": "markdown",
   "metadata": {},
   "source": [
    "### Hyperparameters\n",
    "Tune the following parameters:\n",
    "* Set `epochs` to the number of iterations until the network stops learning or start overfitting\n",
    "* Set `batch_size` to the highest number that your machine has memory for.  Most people set them to common sizes of memory:\n",
    " * 64\n",
    " * 128\n",
    " * 256\n",
    " * ...\n",
    "* Set `keep_probability` to the probability of keeping a node using dropout"
   ]
  },
  {
   "cell_type": "code",
   "execution_count": 157,
   "metadata": {
    "collapsed": true
   },
   "outputs": [],
   "source": [
    "# TODO: Tune Parameters\n",
    "epochs = 20\n",
    "batch_size = 256\n",
    "keep_probability = 0.5"
   ]
  },
  {
   "cell_type": "markdown",
   "metadata": {},
   "source": [
    "### Train on a Single CIFAR-10 Batch\n",
    "Instead of training the neural network on all the CIFAR-10 batches of data, let's use a single batch. This should save time while you iterate on the model to get a better accuracy.  Once the final validation accuracy is 50% or greater, run the model on all the data in the next section."
   ]
  },
  {
   "cell_type": "code",
   "execution_count": 158,
   "metadata": {
    "collapsed": false
   },
   "outputs": [
    {
     "name": "stdout",
     "output_type": "stream",
     "text": [
      "Checking the Training on a Single Batch...\n",
      "Epoch  1, CIFAR-10 Batch 1:  Loss: 2.1428, Accuracy: 0.2636\n",
      "Epoch  2, CIFAR-10 Batch 1:  Loss: 1.9623, Accuracy: 0.3358\n",
      "Epoch  3, CIFAR-10 Batch 1:  Loss: 1.8196, Accuracy: 0.3906\n",
      "Epoch  4, CIFAR-10 Batch 1:  Loss: 1.6793, Accuracy: 0.3996\n",
      "Epoch  5, CIFAR-10 Batch 1:  Loss: 1.5889, Accuracy: 0.4322\n",
      "Epoch  6, CIFAR-10 Batch 1:  Loss: 1.5388, Accuracy: 0.4382\n",
      "Epoch  7, CIFAR-10 Batch 1:  Loss: 1.4906, Accuracy: 0.4450\n",
      "Epoch  8, CIFAR-10 Batch 1:  Loss: 1.3666, Accuracy: 0.4528\n",
      "Epoch  9, CIFAR-10 Batch 1:  Loss: 1.3401, Accuracy: 0.4512\n",
      "Epoch 10, CIFAR-10 Batch 1:  Loss: 1.2489, Accuracy: 0.4668\n",
      "Epoch 11, CIFAR-10 Batch 1:  Loss: 1.1793, Accuracy: 0.4756\n",
      "Epoch 12, CIFAR-10 Batch 1:  Loss: 1.1075, Accuracy: 0.4784\n",
      "Epoch 13, CIFAR-10 Batch 1:  Loss: 1.1173, Accuracy: 0.4838\n",
      "Epoch 14, CIFAR-10 Batch 1:  Loss: 1.0811, Accuracy: 0.4900\n",
      "Epoch 15, CIFAR-10 Batch 1:  Loss: 1.0213, Accuracy: 0.4952\n",
      "Epoch 16, CIFAR-10 Batch 1:  Loss: 1.0078, Accuracy: 0.4896\n",
      "Epoch 17, CIFAR-10 Batch 1:  Loss: 1.0067, Accuracy: 0.4876\n",
      "Epoch 18, CIFAR-10 Batch 1:  Loss: 1.0177, Accuracy: 0.4838\n",
      "Epoch 19, CIFAR-10 Batch 1:  Loss: 0.9256, Accuracy: 0.4964\n",
      "Epoch 20, CIFAR-10 Batch 1:  Loss: 0.9114, Accuracy: 0.4968\n"
     ]
    }
   ],
   "source": [
    "\"\"\"\n",
    "DON'T MODIFY ANYTHING IN THIS CELL\n",
    "\"\"\"\n",
    "print('Checking the Training on a Single Batch...')\n",
    "with tf.Session() as sess:\n",
    "    # Initializing the variables\n",
    "    sess.run(tf.global_variables_initializer())\n",
    "    \n",
    "    # Training cycle\n",
    "    for epoch in range(epochs):\n",
    "        batch_i = 1\n",
    "        for batch_features, batch_labels in helper.load_preprocess_training_batch(batch_i, batch_size):\n",
    "            train_neural_network(sess, optimizer, keep_probability, batch_features, batch_labels)\n",
    "        print('Epoch {:>2}, CIFAR-10 Batch {}:  '.format(epoch + 1, batch_i), end='')\n",
    "        print_stats(sess, batch_features, batch_labels, cost, accuracy)"
   ]
  },
  {
   "cell_type": "markdown",
   "metadata": {},
   "source": [
    "### Fully Train the Model\n",
    "Now that you got a good accuracy with a single CIFAR-10 batch, try it with all five batches."
   ]
  },
  {
   "cell_type": "code",
   "execution_count": 159,
   "metadata": {
    "collapsed": false
   },
   "outputs": [
    {
     "name": "stdout",
     "output_type": "stream",
     "text": [
      "Training...\n",
      "Epoch  1, CIFAR-10 Batch 1:  Loss: 2.2225, Accuracy: 0.2026\n",
      "Epoch  1, CIFAR-10 Batch 2:  Loss: 2.0901, Accuracy: 0.2878\n",
      "Epoch  1, CIFAR-10 Batch 3:  Loss: 1.8529, Accuracy: 0.3046\n",
      "Epoch  1, CIFAR-10 Batch 4:  Loss: 1.8810, Accuracy: 0.3492\n",
      "Epoch  1, CIFAR-10 Batch 5:  Loss: 1.8536, Accuracy: 0.3814\n",
      "Epoch  2, CIFAR-10 Batch 1:  Loss: 1.9518, Accuracy: 0.3914\n",
      "Epoch  2, CIFAR-10 Batch 2:  Loss: 1.6951, Accuracy: 0.4158\n",
      "Epoch  2, CIFAR-10 Batch 3:  Loss: 1.6189, Accuracy: 0.4192\n",
      "Epoch  2, CIFAR-10 Batch 4:  Loss: 1.6498, Accuracy: 0.4176\n",
      "Epoch  2, CIFAR-10 Batch 5:  Loss: 1.6884, Accuracy: 0.4326\n",
      "Epoch  3, CIFAR-10 Batch 1:  Loss: 1.8440, Accuracy: 0.4494\n",
      "Epoch  3, CIFAR-10 Batch 2:  Loss: 1.5850, Accuracy: 0.4416\n",
      "Epoch  3, CIFAR-10 Batch 3:  Loss: 1.4500, Accuracy: 0.4362\n",
      "Epoch  3, CIFAR-10 Batch 4:  Loss: 1.5057, Accuracy: 0.4382\n",
      "Epoch  3, CIFAR-10 Batch 5:  Loss: 1.5709, Accuracy: 0.4476\n",
      "Epoch  4, CIFAR-10 Batch 1:  Loss: 1.7917, Accuracy: 0.4552\n",
      "Epoch  4, CIFAR-10 Batch 2:  Loss: 1.5089, Accuracy: 0.4710\n",
      "Epoch  4, CIFAR-10 Batch 3:  Loss: 1.3699, Accuracy: 0.4608\n",
      "Epoch  4, CIFAR-10 Batch 4:  Loss: 1.4752, Accuracy: 0.4696\n",
      "Epoch  4, CIFAR-10 Batch 5:  Loss: 1.5211, Accuracy: 0.4766\n",
      "Epoch  5, CIFAR-10 Batch 1:  Loss: 1.6853, Accuracy: 0.4758\n",
      "Epoch  5, CIFAR-10 Batch 2:  Loss: 1.4146, Accuracy: 0.4744\n",
      "Epoch  5, CIFAR-10 Batch 3:  Loss: 1.2987, Accuracy: 0.4832\n",
      "Epoch  5, CIFAR-10 Batch 4:  Loss: 1.3670, Accuracy: 0.4842\n",
      "Epoch  5, CIFAR-10 Batch 5:  Loss: 1.4447, Accuracy: 0.5002\n",
      "Epoch  6, CIFAR-10 Batch 1:  Loss: 1.5612, Accuracy: 0.4916\n",
      "Epoch  6, CIFAR-10 Batch 2:  Loss: 1.2770, Accuracy: 0.5062\n",
      "Epoch  6, CIFAR-10 Batch 3:  Loss: 1.1395, Accuracy: 0.5142\n",
      "Epoch  6, CIFAR-10 Batch 4:  Loss: 1.3103, Accuracy: 0.5146\n",
      "Epoch  6, CIFAR-10 Batch 5:  Loss: 1.3654, Accuracy: 0.5066\n",
      "Epoch  7, CIFAR-10 Batch 1:  Loss: 1.4111, Accuracy: 0.5152\n",
      "Epoch  7, CIFAR-10 Batch 2:  Loss: 1.2069, Accuracy: 0.5184\n",
      "Epoch  7, CIFAR-10 Batch 3:  Loss: 1.0863, Accuracy: 0.5152\n",
      "Epoch  7, CIFAR-10 Batch 4:  Loss: 1.3053, Accuracy: 0.5162\n",
      "Epoch  7, CIFAR-10 Batch 5:  Loss: 1.3098, Accuracy: 0.5208\n",
      "Epoch  8, CIFAR-10 Batch 1:  Loss: 1.3618, Accuracy: 0.5280\n",
      "Epoch  8, CIFAR-10 Batch 2:  Loss: 1.1869, Accuracy: 0.5246\n",
      "Epoch  8, CIFAR-10 Batch 3:  Loss: 1.0178, Accuracy: 0.5328\n",
      "Epoch  8, CIFAR-10 Batch 4:  Loss: 1.2551, Accuracy: 0.5314\n",
      "Epoch  8, CIFAR-10 Batch 5:  Loss: 1.2394, Accuracy: 0.5322\n",
      "Epoch  9, CIFAR-10 Batch 1:  Loss: 1.3164, Accuracy: 0.5290\n",
      "Epoch  9, CIFAR-10 Batch 2:  Loss: 1.1095, Accuracy: 0.5378\n",
      "Epoch  9, CIFAR-10 Batch 3:  Loss: 0.9897, Accuracy: 0.5438\n",
      "Epoch  9, CIFAR-10 Batch 4:  Loss: 1.1786, Accuracy: 0.5292\n",
      "Epoch  9, CIFAR-10 Batch 5:  Loss: 1.1719, Accuracy: 0.5420\n",
      "Epoch 10, CIFAR-10 Batch 1:  Loss: 1.2479, Accuracy: 0.5454\n",
      "Epoch 10, CIFAR-10 Batch 2:  Loss: 1.1152, Accuracy: 0.5368\n",
      "Epoch 10, CIFAR-10 Batch 3:  Loss: 0.9707, Accuracy: 0.5454\n",
      "Epoch 10, CIFAR-10 Batch 4:  Loss: 1.1295, Accuracy: 0.5394\n",
      "Epoch 10, CIFAR-10 Batch 5:  Loss: 1.1418, Accuracy: 0.5442\n",
      "Epoch 11, CIFAR-10 Batch 1:  Loss: 1.2101, Accuracy: 0.5452\n",
      "Epoch 11, CIFAR-10 Batch 2:  Loss: 1.0071, Accuracy: 0.5524\n",
      "Epoch 11, CIFAR-10 Batch 3:  Loss: 0.9156, Accuracy: 0.5468\n",
      "Epoch 11, CIFAR-10 Batch 4:  Loss: 1.0875, Accuracy: 0.5450\n",
      "Epoch 11, CIFAR-10 Batch 5:  Loss: 1.0575, Accuracy: 0.5516\n",
      "Epoch 12, CIFAR-10 Batch 1:  Loss: 1.1816, Accuracy: 0.5486\n",
      "Epoch 12, CIFAR-10 Batch 2:  Loss: 0.9892, Accuracy: 0.5574\n",
      "Epoch 12, CIFAR-10 Batch 3:  Loss: 0.9221, Accuracy: 0.5538\n",
      "Epoch 12, CIFAR-10 Batch 4:  Loss: 1.0240, Accuracy: 0.5422\n",
      "Epoch 12, CIFAR-10 Batch 5:  Loss: 1.0777, Accuracy: 0.5570\n",
      "Epoch 13, CIFAR-10 Batch 1:  Loss: 1.1608, Accuracy: 0.5522\n",
      "Epoch 13, CIFAR-10 Batch 2:  Loss: 0.9662, Accuracy: 0.5518\n",
      "Epoch 13, CIFAR-10 Batch 3:  Loss: 0.8463, Accuracy: 0.5562\n",
      "Epoch 13, CIFAR-10 Batch 4:  Loss: 0.9923, Accuracy: 0.5610\n",
      "Epoch 13, CIFAR-10 Batch 5:  Loss: 1.0105, Accuracy: 0.5542\n",
      "Epoch 14, CIFAR-10 Batch 1:  Loss: 1.1460, Accuracy: 0.5522\n",
      "Epoch 14, CIFAR-10 Batch 2:  Loss: 0.9285, Accuracy: 0.5614\n",
      "Epoch 14, CIFAR-10 Batch 3:  Loss: 0.8251, Accuracy: 0.5548\n",
      "Epoch 14, CIFAR-10 Batch 4:  Loss: 0.9625, Accuracy: 0.5688\n",
      "Epoch 14, CIFAR-10 Batch 5:  Loss: 0.9651, Accuracy: 0.5592\n",
      "Epoch 15, CIFAR-10 Batch 1:  Loss: 1.1153, Accuracy: 0.5458\n",
      "Epoch 15, CIFAR-10 Batch 2:  Loss: 0.9037, Accuracy: 0.5690\n",
      "Epoch 15, CIFAR-10 Batch 3:  Loss: 0.7839, Accuracy: 0.5494\n",
      "Epoch 15, CIFAR-10 Batch 4:  Loss: 0.9491, Accuracy: 0.5654\n",
      "Epoch 15, CIFAR-10 Batch 5:  Loss: 0.9283, Accuracy: 0.5698\n",
      "Epoch 16, CIFAR-10 Batch 1:  Loss: 1.0746, Accuracy: 0.5378\n",
      "Epoch 16, CIFAR-10 Batch 2:  Loss: 0.9086, Accuracy: 0.5640\n",
      "Epoch 16, CIFAR-10 Batch 3:  Loss: 0.7864, Accuracy: 0.5684\n",
      "Epoch 16, CIFAR-10 Batch 4:  Loss: 0.8919, Accuracy: 0.5726\n",
      "Epoch 16, CIFAR-10 Batch 5:  Loss: 0.8839, Accuracy: 0.5712\n",
      "Epoch 17, CIFAR-10 Batch 1:  Loss: 1.0105, Accuracy: 0.5740\n",
      "Epoch 17, CIFAR-10 Batch 2:  Loss: 0.8642, Accuracy: 0.5706\n",
      "Epoch 17, CIFAR-10 Batch 3:  Loss: 0.7456, Accuracy: 0.5636\n",
      "Epoch 17, CIFAR-10 Batch 4:  Loss: 0.8468, Accuracy: 0.5754\n",
      "Epoch 17, CIFAR-10 Batch 5:  Loss: 0.8805, Accuracy: 0.5726\n",
      "Epoch 18, CIFAR-10 Batch 1:  Loss: 1.0062, Accuracy: 0.5676\n",
      "Epoch 18, CIFAR-10 Batch 2:  Loss: 0.8498, Accuracy: 0.5712\n",
      "Epoch 18, CIFAR-10 Batch 3:  Loss: 0.7273, Accuracy: 0.5628\n",
      "Epoch 18, CIFAR-10 Batch 4:  Loss: 0.8313, Accuracy: 0.5772\n",
      "Epoch 18, CIFAR-10 Batch 5:  Loss: 0.8470, Accuracy: 0.5692\n",
      "Epoch 19, CIFAR-10 Batch 1:  Loss: 0.9376, Accuracy: 0.5744\n",
      "Epoch 19, CIFAR-10 Batch 2:  Loss: 0.8691, Accuracy: 0.5730\n",
      "Epoch 19, CIFAR-10 Batch 3:  Loss: 0.7130, Accuracy: 0.5724\n",
      "Epoch 19, CIFAR-10 Batch 4:  Loss: 0.8177, Accuracy: 0.5632\n",
      "Epoch 19, CIFAR-10 Batch 5:  Loss: 0.8077, Accuracy: 0.5778\n",
      "Epoch 20, CIFAR-10 Batch 1:  Loss: 0.9172, Accuracy: 0.5668\n",
      "Epoch 20, CIFAR-10 Batch 2:  Loss: 0.8507, Accuracy: 0.5694\n",
      "Epoch 20, CIFAR-10 Batch 3:  Loss: 0.7038, Accuracy: 0.5750\n",
      "Epoch 20, CIFAR-10 Batch 4:  Loss: 0.8175, Accuracy: 0.5764\n",
      "Epoch 20, CIFAR-10 Batch 5:  Loss: 0.7831, Accuracy: 0.5860\n"
     ]
    }
   ],
   "source": [
    "\"\"\"\n",
    "DON'T MODIFY ANYTHING IN THIS CELL\n",
    "\"\"\"\n",
    "save_model_path = './image_classification'\n",
    "\n",
    "print('Training...')\n",
    "with tf.Session() as sess:\n",
    "    # Initializing the variables\n",
    "    sess.run(tf.global_variables_initializer())\n",
    "    \n",
    "    # Training cycle\n",
    "    for epoch in range(epochs):\n",
    "        # Loop over all batches\n",
    "        n_batches = 5\n",
    "        for batch_i in range(1, n_batches + 1):\n",
    "            for batch_features, batch_labels in helper.load_preprocess_training_batch(batch_i, batch_size):\n",
    "                train_neural_network(sess, optimizer, keep_probability, batch_features, batch_labels)\n",
    "            print('Epoch {:>2}, CIFAR-10 Batch {}:  '.format(epoch + 1, batch_i), end='')\n",
    "            print_stats(sess, batch_features, batch_labels, cost, accuracy)\n",
    "            \n",
    "    # Save Model\n",
    "    saver = tf.train.Saver()\n",
    "    save_path = saver.save(sess, save_model_path)"
   ]
  },
  {
   "cell_type": "markdown",
   "metadata": {},
   "source": [
    "# Checkpoint\n",
    "The model has been saved to disk.\n",
    "## Test Model\n",
    "Test your model against the test dataset.  This will be your final accuracy. You should have an accuracy greater than 50%. If you don't, keep tweaking the model architecture and parameters."
   ]
  },
  {
   "cell_type": "code",
   "execution_count": 160,
   "metadata": {
    "collapsed": false
   },
   "outputs": [
    {
     "name": "stdout",
     "output_type": "stream",
     "text": [
      "Testing Accuracy: 0.57841796875\n",
      "\n"
     ]
    },
    {
     "data": {
      "image/png": "[encoded data removed]",
      "text/plain": [
       "<matplotlib.figure.Figure at 0x232816d0fd0>"
      ]
     },
     "metadata": {
      "image/png": {
       "height": 319,
       "width": 355
      }
     },
     "output_type": "display_data"
    }
   ],
   "source": [
    "\"\"\"\n",
    "DON'T MODIFY ANYTHING IN THIS CELL\n",
    "\"\"\"\n",
    "%matplotlib inline\n",
    "%config InlineBackend.figure_format = 'retina'\n",
    "\n",
    "import tensorflow as tf\n",
    "import pickle\n",
    "import helper\n",
    "import random\n",
    "\n",
    "# Set batch size if not already set\n",
    "try:\n",
    "    if batch_size:\n",
    "        pass\n",
    "except NameError:\n",
    "    batch_size = 64\n",
    "\n",
    "save_model_path = './image_classification'\n",
    "n_samples = 4\n",
    "top_n_predictions = 3\n",
    "\n",
    "def test_model():\n",
    "    \"\"\"\n",
    "    Test the saved model against the test dataset\n",
    "    \"\"\"\n",
    "\n",
    "    test_features, test_labels = pickle.load(open('preprocess_training.p', mode='rb'))\n",
    "    loaded_graph = tf.Graph()\n",
    "\n",
    "    with tf.Session(graph=loaded_graph) as sess:\n",
    "        # Load model\n",
    "        loader = tf.train.import_meta_graph(save_model_path + '.meta')\n",
    "        loader.restore(sess, save_model_path)\n",
    "\n",
    "        # Get Tensors from loaded model\n",
    "        loaded_x = loaded_graph.get_tensor_by_name('x:0')\n",
    "        loaded_y = loaded_graph.get_tensor_by_name('y:0')\n",
    "        loaded_keep_prob = loaded_graph.get_tensor_by_name('keep_prob:0')\n",
    "        loaded_logits = loaded_graph.get_tensor_by_name('logits:0')\n",
    "        loaded_acc = loaded_graph.get_tensor_by_name('accuracy:0')\n",
    "        \n",
    "        # Get accuracy in batches for memory limitations\n",
    "        test_batch_acc_total = 0\n",
    "        test_batch_count = 0\n",
    "        \n",
    "        for train_feature_batch, train_label_batch in helper.batch_features_labels(test_features, test_labels, batch_size):\n",
    "            test_batch_acc_total += sess.run(\n",
    "                loaded_acc,\n",
    "                feed_dict={loaded_x: train_feature_batch, loaded_y: train_label_batch, loaded_keep_prob: 1.0})\n",
    "            test_batch_count += 1\n",
    "\n",
    "        print('Testing Accuracy: {}\\n'.format(test_batch_acc_total/test_batch_count))\n",
    "\n",
    "        # Print Random Samples\n",
    "        random_test_features, random_test_labels = tuple(zip(*random.sample(list(zip(test_features, test_labels)), n_samples)))\n",
    "        random_test_predictions = sess.run(\n",
    "            tf.nn.top_k(tf.nn.softmax(loaded_logits), top_n_predictions),\n",
    "            feed_dict={loaded_x: random_test_features, loaded_y: random_test_labels, loaded_keep_prob: 1.0})\n",
    "        helper.display_image_predictions(random_test_features, random_test_labels, random_test_predictions)\n",
    "\n",
    "\n",
    "test_model()"
   ]
  },
  {
   "cell_type": "markdown",
   "metadata": {},
   "source": [
    "## Why 50-70% Accuracy?\n",
    "You might be wondering why you can't get an accuracy any higher. First things first, 50% isn't bad for a simple CNN.  Pure guessing would get you 10% accuracy. However, you might notice people are getting scores [well above 70%](http://rodrigob.github.io/are_we_there_yet/build/classification_datasets_results.html#43494641522d3130).  That's because we haven't taught you all there is to know about neural networks. We still need to cover a few more techniques.\n",
    "## Submitting This Project\n",
    "When submitting this project, make sure to run all the cells before saving the notebook.  Save the notebook file as \"dlnd_image_classification.ipynb\" and save it as a HTML file under \"File\" -> \"Download as\".  Include the \"helper.py\" and \"problem_unittests.py\" files in your submission."
   ]
  },
  {
   "cell_type": "code",
   "execution_count": null,
   "metadata": {
    "collapsed": true
   },
   "outputs": [],
   "source": []
  }
 ],
 "metadata": {
  "kernelspec": {
   "display_name": "Python 3",
   "language": "python",
   "name": "python3"
  },
  "language_info": {
   "codemirror_mode": {
    "name": "ipython",
    "version": 3
   },
   "file_extension": ".py",
   "mimetype": "text/x-python",
   "name": "python",
   "nbconvert_exporter": "python",
   "pygments_lexer": "ipython3",
   "version": "3.5.3"
  }
 },
 "nbformat": 4,
 "nbformat_minor": 0
}
